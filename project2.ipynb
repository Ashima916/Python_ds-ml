{
 "cells": [
  {
   "cell_type": "code",
   "execution_count": 11,
   "id": "af75657c-0418-4c3e-a0ce-71599455262a",
   "metadata": {},
   "outputs": [
    {
     "name": "stdin",
     "output_type": "stream",
     "text": [
      "Choose any option: 1\n"
     ]
    },
    {
     "name": "stdout",
     "output_type": "stream",
     "text": [
      " Matrix Addition:\n",
      "[[ 7  9]\n",
      " [14 13]]\n"
     ]
    }
   ],
   "source": [
    "#matrix Calculator project \n",
    "import numpy as np\n",
    "m1 = np.array([[3,4],[6,4]])\n",
    "m2 = np.array([[4,5],[8,9]])\n",
    "option = int(input('Choose any option:'))\n",
    "if option == 1:\n",
    "   print(' Matrix Addition:')\n",
    "   print(np.add(m1,m2))\n",
    "elif option == 2:\n",
    "      print('Matrix Subtraction:')\n",
    "      print(np.subtract(m1,m2))\n",
    "elif option == 3:\n",
    "      print(\"Matrix multiply :\")\n",
    "      print(np.dot(m1,m2))\n",
    "elif option == 4:\n",
    "     print(\"Matrix Transpose :\")\n",
    "     print(m1.T,\"\\n\",m2.T)\n",
    "else: print('Invalid Input')"
   ]
  },
  {
   "cell_type": "code",
   "execution_count": 15,
   "id": "d1e9bc9b-1e8a-400c-996e-c5ef4142161b",
   "metadata": {},
   "outputs": [
    {
     "name": "stdout",
     "output_type": "stream",
     "text": [
      "Season Based on Months\n"
     ]
    },
    {
     "name": "stdin",
     "output_type": "stream",
     "text": [
      "Enter any month December\n"
     ]
    },
    {
     "name": "stdout",
     "output_type": "stream",
     "text": [
      "It is Winter season\n"
     ]
    }
   ],
   "source": [
    "#minor project\n",
    "print('Season Based on Months')\n",
    "months=input('Enter any month')\n",
    "if months in ['March','april']:\n",
    "    print('It is Spring season')\n",
    "elif months in ['may','june']:\n",
    "    print('It is Summer season')\n",
    "elif months in ['December','January']:\n",
    "    print('It is Winter season')\n",
    "elif months in ['October','November']:\n",
    "    print('It is Autumn season')\n",
    "elif months in ['July','August','September']:\n",
    "    print('It is Rainy season')\n",
    "else: print('Invalid Input')   \n"
   ]
  },
  {
   "cell_type": "code",
   "execution_count": null,
   "id": "693b0d48-73be-4f83-95ae-252078e80685",
   "metadata": {},
   "outputs": [],
   "source": []
  }
 ],
 "metadata": {
  "kernelspec": {
   "display_name": "Python 3 (ipykernel)",
   "language": "python",
   "name": "python3"
  },
  "language_info": {
   "codemirror_mode": {
    "name": "ipython",
    "version": 3
   },
   "file_extension": ".py",
   "mimetype": "text/x-python",
   "name": "python",
   "nbconvert_exporter": "python",
   "pygments_lexer": "ipython3",
   "version": "3.12.4"
  }
 },
 "nbformat": 4,
 "nbformat_minor": 5
}

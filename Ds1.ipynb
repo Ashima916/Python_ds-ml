{
 "cells": [
  {
   "cell_type": "code",
   "execution_count": 1,
   "id": "571f6001-5a5b-4aea-a08b-711525f382db",
   "metadata": {},
   "outputs": [
    {
     "name": "stdout",
     "output_type": "stream",
     "text": [
      "dict_keys(['name', 'class'])\n",
      "dict_values([['ram', 'rahul', 'ashish'], [10, 11, 12]])\n"
     ]
    }
   ],
   "source": [
    "g={'name':['ram','rahul','ashish'],'class':[10,11,12]}\n",
    "i=g.keys()\n",
    "j=g.values()\n",
    "print(i)\n",
    "print(j)"
   ]
  },
  {
   "cell_type": "code",
   "execution_count": 2,
   "id": "9a84b474-51e1-4396-91ef-b076dd40e754",
   "metadata": {},
   "outputs": [
    {
     "name": "stdout",
     "output_type": "stream",
     "text": [
      "{'class': [10, 11, 12]}\n"
     ]
    }
   ],
   "source": [
    "g={'name':['ram','rahul','ashish'],'class':[10,11,12]}\n",
    "g.pop('name')\n",
    "print(g)"
   ]
  },
  {
   "cell_type": "code",
   "execution_count": 3,
   "id": "5737d6d8-2dcf-4d44-8737-5d49c89a5243",
   "metadata": {},
   "outputs": [
    {
     "name": "stdout",
     "output_type": "stream",
     "text": [
      "{}\n"
     ]
    }
   ],
   "source": [
    "g={'name':['ram','rahul','ashish'],'class':[10,11,12]}\n",
    "g.clear()\n",
    "print(g)"
   ]
  },
  {
   "cell_type": "code",
   "execution_count": 4,
   "id": "f4392889-bfd6-4f94-9250-8be51cf4a96c",
   "metadata": {},
   "outputs": [
    {
     "name": "stdout",
     "output_type": "stream",
     "text": [
      "dict_items([('name', ['ram', 'rahul', 'ashish']), ('class', [10, 11, 12])])\n"
     ]
    }
   ],
   "source": [
    "g={'name':['ram','rahul','ashish'],'class':[10,11,12]}\n",
    "i=g.items()\n",
    "print(i)"
   ]
  },
  {
   "cell_type": "code",
   "execution_count": 7,
   "id": "d8265050-f0f8-4544-8830-69a1a1122767",
   "metadata": {},
   "outputs": [
    {
     "name": "stdout",
     "output_type": "stream",
     "text": [
      "{'name': ['Anvi', 'Ananya', 'Akshit', 'Ashish'], 'marks': [84, 89, 94, 75]}\n",
      "{'name': ['Ashish'], 'marks': [75]}\n"
     ]
    }
   ],
   "source": [
    "#storing key and value of students\n",
    "d={'name':['Anvi','Ananya','Akshit'],'marks':[84,89,94]}\n",
    "#add\n",
    "d['name'].append('Ashish')\n",
    "d['marks'].append(75)\n",
    "print(d)\n",
    "#update\n",
    "d['name'] = ['Ashish']\n",
    "d['marks'] = [75]\n",
    "print(d)"
   ]
  },
  {
   "cell_type": "code",
   "execution_count": 8,
   "id": "656c86eb-f844-4267-a6b3-6da6177e88c3",
   "metadata": {},
   "outputs": [
    {
     "name": "stdin",
     "output_type": "stream",
     "text": [
      "enter your name manu\n",
      "enter your marks 45\n"
     ]
    },
    {
     "name": "stdout",
     "output_type": "stream",
     "text": [
      "dict_items([('manu', '45'), ('anvi', 78), ('varun', 67)])\n",
      "{'manu': '45', 'anvi': 78, 'varun': 67, 'rashmi': 56, 'kritika': 98}\n"
     ]
    }
   ],
   "source": [
    "student={\"manu\":98,\"anvi\":78,\"varun\":67}\n",
    "def add():\n",
    "    name=input(\"enter your name\")\n",
    "    marks=input(\"enter your marks\")\n",
    "    student[name]=marks\n",
    "\n",
    "add()\n",
    "print(student.items())\n",
    "student.update({\"rashmi\":56,\"kritika\":98})\n",
    "print(student)"
   ]
  },
  {
   "cell_type": "code",
   "execution_count": 11,
   "id": "9afff1c2-e180-4bbb-a252-01c8bc1a596e",
   "metadata": {},
   "outputs": [
    {
     "name": "stdout",
     "output_type": "stream",
     "text": [
      "1. Add a record\n",
      "2. update a record\n",
      "3. display highest,Lowest and Average marks\n",
      "4. Show all records\n"
     ]
    },
    {
     "name": "stdin",
     "output_type": "stream",
     "text": [
      "Enter your option:  3\n"
     ]
    },
    {
     "name": "stdout",
     "output_type": "stream",
     "text": [
      "Highest Marks: 48\n",
      "Lowest Marks: 45\n",
      "Average Marks: 46.5\n"
     ]
    },
    {
     "name": "stdin",
     "output_type": "stream",
     "text": [
      "Want to continue (Y/N):  Y\n"
     ]
    },
    {
     "name": "stdout",
     "output_type": "stream",
     "text": [
      "1. Add a record\n",
      "2. update a record\n",
      "3. display highest,Lowest and Average marks\n",
      "4. Show all records\n"
     ]
    },
    {
     "name": "stdin",
     "output_type": "stream",
     "text": [
      "Enter your option:  1\n",
      "Enter Name:  anvi\n",
      "Enter Makrs: 42\n"
     ]
    },
    {
     "name": "stdout",
     "output_type": "stream",
     "text": [
      "Record Added!\n"
     ]
    },
    {
     "name": "stdin",
     "output_type": "stream",
     "text": [
      "Want to continue (Y/N):  Y\n"
     ]
    },
    {
     "name": "stdout",
     "output_type": "stream",
     "text": [
      "1. Add a record\n",
      "2. update a record\n",
      "3. display highest,Lowest and Average marks\n",
      "4. Show all records\n"
     ]
    },
    {
     "name": "stdin",
     "output_type": "stream",
     "text": [
      "Enter your option:  4\n"
     ]
    },
    {
     "name": "stdout",
     "output_type": "stream",
     "text": [
      "dict_items([('ashima', 45), ('rashmi', 48), ('anvi', 42.0)])\n"
     ]
    },
    {
     "name": "stdin",
     "output_type": "stream",
     "text": [
      "Want to continue (Y/N):  N\n"
     ]
    }
   ],
   "source": [
    "# dict={\"ashima\":45,\"rashmi\":48}\n",
    "con='Y'\n",
    "while(con=='Y'):\n",
    "    print(\"1. Add a record\\n2. update a record\\n3. display highest,Lowest and Average marks\\n4. Show all records\")\n",
    "    ch=int(input(\"Enter your option: \"))\n",
    "    if ch==1:\n",
    "        name=input(\"Enter Name: \")\n",
    "        marks=float(input(\"Enter Makrs:\"))\n",
    "        dict.update({name:marks})\n",
    "        print(\"Record Added!\")\n",
    "    \n",
    "    elif ch==2:\n",
    "        name=input(\"Enter Name whose marks you want to update: \")\n",
    "        marks=float(input(\"Enter updated Makrs:\"))\n",
    "        dict.update({name:marks})\n",
    "        print(\"Record Updated!\")\n",
    "    elif ch==3:\n",
    "        min=50\n",
    "        max=sum=0\n",
    "        num=dict.values()\n",
    "        for i in num:\n",
    "            if min>i:\n",
    "                min=i\n",
    "            if max<i:\n",
    "                max=i\n",
    "        for i in num:\n",
    "            sum +=i\n",
    "        print(f\"Highest Marks: {max}\")\n",
    "        print(f\"Lowest Marks: {min}\")\n",
    "        print(f\"Average Marks: {sum/len(num)}\") \n",
    "    elif ch==4:\n",
    "        print(dict.items())\n",
    "    else:\n",
    "        print(\"Invalid Option\")\n",
    "\n",
    "    con=input(\"Want to continue (Y/N): \")"
   ]
  },
  {
   "cell_type": "code",
   "execution_count": 10,
   "id": "4e85ad80-3026-44e8-93dc-bc313c76546a",
   "metadata": {},
   "outputs": [
    {
     "name": "stdout",
     "output_type": "stream",
     "text": [
      "welcome in atm \n"
     ]
    },
    {
     "name": "stdin",
     "output_type": "stream",
     "text": [
      "Insert your card card\n"
     ]
    },
    {
     "name": "stdout",
     "output_type": "stream",
     "text": [
      "card inserted...\n"
     ]
    },
    {
     "name": "stdin",
     "output_type": "stream",
     "text": [
      "Enter your pin 1234\n"
     ]
    },
    {
     "name": "stdout",
     "output_type": "stream",
     "text": [
      "1)check balance\n",
      "2)withdraw\n",
      "3)credit amount\n"
     ]
    },
    {
     "name": "stdin",
     "output_type": "stream",
     "text": [
      "enter your option 3\n",
      "enter the amount to credit 145643\n"
     ]
    },
    {
     "name": "stdout",
     "output_type": "stream",
     "text": [
      "your final amountis:- 1379767\n"
     ]
    }
   ],
   "source": [
    "class Atm_machine:\n",
    "    def __init__(self,amount=1234124,pin=1234):\n",
    "        self.amount=amount\n",
    "        self.pin=pin\n",
    "        print('welcome in atm ')\n",
    "    def card_insert(self):\n",
    "        if 'card'==input('Insert your card'):\n",
    "            print('card inserted...')\n",
    "            if self.pin==int(input('Enter your pin')):\n",
    "                print('1)check balance\\n2)withdraw\\n3)credit amount')\n",
    "                option=int(input('enter your option'))\n",
    "                if option==1:\n",
    "                    p1.check_balance()\n",
    "                elif option==2:\n",
    "                    p1.withdraw()\n",
    "                elif option==3:\n",
    "                    p1.credit()\n",
    "                else:\n",
    "                    print('Invalid option')\n",
    "                    \n",
    "            else:\n",
    "                print('wrong pin')\n",
    "        else:\n",
    "            print('invalid card')\n",
    "    def check_balance(self):\n",
    "        print('your current balance is :- ',self.amount)\n",
    "    def withdraw(self):\n",
    "        user_amount=int(input('enter your amount'))\n",
    "        print('your avaible balance is :- ',self.amount-user_amount)\n",
    "    def credit(self):\n",
    "        user_amount=int(input(\"enter the amount to credit\"))\n",
    "        print('your final amountis:-',self.amount+user_amount)\n",
    "                    \n",
    "p1=Atm_machine()\n",
    "p1.card_insert()  "
   ]
  },
  {
   "cell_type": "code",
   "execution_count": null,
   "id": "c1db437e-261c-4374-aef6-ac3edfa06354",
   "metadata": {},
   "outputs": [],
   "source": []
  }
 ],
 "metadata": {
  "kernelspec": {
   "display_name": "Python [conda env:base] *",
   "language": "python",
   "name": "conda-base-py"
  },
  "language_info": {
   "codemirror_mode": {
    "name": "ipython",
    "version": 3
   },
   "file_extension": ".py",
   "mimetype": "text/x-python",
   "name": "python",
   "nbconvert_exporter": "python",
   "pygments_lexer": "ipython3",
   "version": "3.12.7"
  }
 },
 "nbformat": 4,
 "nbformat_minor": 5
}

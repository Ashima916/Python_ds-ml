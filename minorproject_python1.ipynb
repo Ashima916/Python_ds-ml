{
 "cells": [
  {
   "cell_type": "code",
   "execution_count": 12,
   "id": "fa331f79-ce59-4559-8f10-4556abe3a84f",
   "metadata": {},
   "outputs": [
    {
     "name": "stdin",
     "output_type": "stream",
     "text": [
      "Enter your marks(0-100) 92\n"
     ]
    },
    {
     "name": "stdout",
     "output_type": "stream",
     "text": [
      "Grade is : A\n"
     ]
    }
   ],
   "source": [
    "#Grade Calculator\n",
    "marks=int(input('Enter your marks(0-100)'))\n",
    "\n",
    "if marks >= 90:\n",
    "    grade = 'A'\n",
    "elif marks >= 80:\n",
    "    grade = 'B'\n",
    "elif marks >= 70:\n",
    "    grade = 'C' \n",
    "elif marks >= 60:\n",
    "    grade = 'D'\n",
    "else: \n",
    "    grade = 'F'\n",
    "\n",
    "print('Grade is :',grade)"
   ]
  },
  {
   "cell_type": "code",
   "execution_count": 16,
   "id": "1cefa492-f4fd-4e09-94c3-d679bdf8bc62",
   "metadata": {},
   "outputs": [
    {
     "name": "stdin",
     "output_type": "stream",
     "text": [
      "Enter your age 21\n"
     ]
    },
    {
     "name": "stdout",
     "output_type": "stream",
     "text": [
      "You are eligible to vote\n"
     ]
    }
   ],
   "source": [
    "#Age Checker\n",
    "age=int(input('Enter your age'))\n",
    "if age>=18:\n",
    "   print('You are eligible to vote')\n",
    "else: print('You are not eligible to vote')"
   ]
  },
  {
   "cell_type": "code",
   "execution_count": 17,
   "id": "7f57f521-e9cb-421f-8cb4-48409846ee16",
   "metadata": {},
   "outputs": [
    {
     "name": "stdout",
     "output_type": "stream",
     "text": [
      "the electricity bill price is Rs. 2.5 per unit\n"
     ]
    },
    {
     "name": "stdin",
     "output_type": "stream",
     "text": [
      "Enter your units:  350\n"
     ]
    },
    {
     "name": "stdout",
     "output_type": "stream",
     "text": [
      "the bill is:  875.0\n"
     ]
    }
   ],
   "source": [
    "#Electricity Bill Generator\n",
    "print(\"the electricity bill price is Rs. 2.5 per unit\")\n",
    "units=int(input(\"Enter your units: \"))\n",
    "if units<200:\n",
    "    print(\"The bill is free!!\")\n",
    "else: \n",
    "    bill=2.5 * units\n",
    "    print(\"the bill is: \",bill)"
   ]
  },
  {
   "cell_type": "code",
   "execution_count": 18,
   "id": "a331caac-42a6-43d8-afb1-063ac54cbe51",
   "metadata": {},
   "outputs": [
    {
     "name": "stdout",
     "output_type": "stream",
     "text": [
      "-----LIBRARY FINE CALCULATOR-----\n",
      "The library fine for not returning books after 5 days is Rs.50 per day\n"
     ]
    },
    {
     "name": "stdin",
     "output_type": "stream",
     "text": [
      "Enter days:  5\n"
     ]
    },
    {
     "name": "stdout",
     "output_type": "stream",
     "text": [
      "No fine!!\n"
     ]
    }
   ],
   "source": [
    "#Library Fine Calculator\n",
    "print(\"-----LIBRARY FINE CALCULATOR-----\")\n",
    "print(\"The library fine for not returning books after 5 days is Rs.50 per day\")\n",
    "days_late=int(input(\"Enter days: \"))\n",
    "if days_late<=5:\n",
    "    print(\"No fine!!\")\n",
    "elif days_late>5 and days_late<=30:\n",
    "    fine=(days_late -5 )*50\n",
    "    print(\"Your fine is :Rs.\", fine)\n",
    "else:\n",
    "    print(\"Membership cancelled!!\")"
   ]
  },
  {
   "cell_type": "code",
   "execution_count": null,
   "id": "dfabdf5d-59d8-4e8e-beb4-218846a451d8",
   "metadata": {},
   "outputs": [
    {
     "name": "stdout",
     "output_type": "stream",
     "text": [
      "\t\t\t\t\t\t\t--LOGIN SYSTEM--\n"
     ]
    }
   ],
   "source": [
    "#Simple lOGIN SYSTEM\n",
    "print('\\t\\t\\t\\t\\t\\t\\t--LOGIN SYSTEM--')\n",
    "count=1\n",
    "Password = int(input('Enter your Password'))\n",
    "while count<=2:\n",
    "    if Password == 789:\n",
    "        print('Welcome')\n",
    "        \n",
    "        break\n",
    "    else:\n",
    "        print('Try Again')\n",
    "    \n",
    "        Password = int(input())\n",
    "\n",
    "print('End of Execution')"
   ]
  },
  {
   "cell_type": "code",
   "execution_count": null,
   "id": "2e079302-7270-47da-8c07-8e1959a7ae51",
   "metadata": {},
   "outputs": [],
   "source": []
  }
 ],
 "metadata": {
  "kernelspec": {
   "display_name": "Python 3 (ipykernel)",
   "language": "python",
   "name": "python3"
  },
  "language_info": {
   "codemirror_mode": {
    "name": "ipython",
    "version": 3
   },
   "file_extension": ".py",
   "mimetype": "text/x-python",
   "name": "python",
   "nbconvert_exporter": "python",
   "pygments_lexer": "ipython3",
   "version": "3.12.4"
  }
 },
 "nbformat": 4,
 "nbformat_minor": 5
}

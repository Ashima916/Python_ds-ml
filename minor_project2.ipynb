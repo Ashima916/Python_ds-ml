{
 "cells": [
  {
   "cell_type": "code",
   "execution_count": 2,
   "id": "9f096672-f9f8-4ca6-9023-0f8072fed787",
   "metadata": {},
   "outputs": [
    {
     "name": "stdout",
     "output_type": "stream",
     "text": [
      "\n",
      "----- Student Marks Menu -----\n",
      "1. Add a record\n",
      "2. Update a record\n",
      "3. Display Highest, Lowest, and Average marks\n",
      "4. Show all records\n",
      "5. Exit\n"
     ]
    },
    {
     "name": "stdin",
     "output_type": "stream",
     "text": [
      "Enter your option:  1\n",
      "Enter Name:  Kiara\n",
      "Enter Marks:  47\n"
     ]
    },
    {
     "name": "stdout",
     "output_type": "stream",
     "text": [
      "Record Added!\n",
      "\n",
      "----- Student Marks Menu -----\n",
      "1. Add a record\n",
      "2. Update a record\n",
      "3. Display Highest, Lowest, and Average marks\n",
      "4. Show all records\n",
      "5. Exit\n"
     ]
    },
    {
     "name": "stdin",
     "output_type": "stream",
     "text": [
      "Enter your option:  2\n",
      "Enter Name whose marks you want to update:  Anvi\n",
      "Enter updated Marks:  49\n"
     ]
    },
    {
     "name": "stdout",
     "output_type": "stream",
     "text": [
      "Record Updated!\n",
      "\n",
      "----- Student Marks Menu -----\n",
      "1. Add a record\n",
      "2. Update a record\n",
      "3. Display Highest, Lowest, and Average marks\n",
      "4. Show all records\n",
      "5. Exit\n"
     ]
    },
    {
     "name": "stdin",
     "output_type": "stream",
     "text": [
      "Enter your option:  3\n"
     ]
    },
    {
     "name": "stdout",
     "output_type": "stream",
     "text": [
      "\n",
      " Highest Marks: 49.0\n",
      "Lowest Marks: 45\n",
      "Average Marks: 47.00\n",
      "\n",
      "----- Student Marks Menu -----\n",
      "1. Add a record\n",
      "2. Update a record\n",
      "3. Display Highest, Lowest, and Average marks\n",
      "4. Show all records\n",
      "5. Exit\n"
     ]
    },
    {
     "name": "stdin",
     "output_type": "stream",
     "text": [
      "Enter your option:  4\n"
     ]
    },
    {
     "name": "stdout",
     "output_type": "stream",
     "text": [
      "\n",
      " All Student Records:\n",
      "Aadhya: 45\n",
      "Anvi: 49.0\n",
      "Kiara: 47.0\n",
      "\n",
      "----- Student Marks Menu -----\n",
      "1. Add a record\n",
      "2. Update a record\n",
      "3. Display Highest, Lowest, and Average marks\n",
      "4. Show all records\n",
      "5. Exit\n"
     ]
    },
    {
     "name": "stdin",
     "output_type": "stream",
     "text": [
      "Enter your option:  5\n"
     ]
    },
    {
     "name": "stdout",
     "output_type": "stream",
     "text": [
      " Exiting... \n"
     ]
    }
   ],
   "source": [
    "#### Mini project on student marks\n",
    "students = {\"Aadhya\": 45, \"Anvi\": 48}\n",
    "\n",
    "while True:\n",
    "    print(\"\\n----- Student Marks Menu -----\")\n",
    "    print(\"1. Add a record\")\n",
    "    print(\"2. Update a record\")\n",
    "    print(\"3. Display Highest, Lowest, and Average marks\")\n",
    "    print(\"4. Show all records\")\n",
    "    print(\"5. Exit\")\n",
    "\n",
    "    try:\n",
    "        choice = int(input(\"Enter your option: \"))\n",
    "    except ValueError:\n",
    "        print(\"Please enter a valid number.\")\n",
    "        continue\n",
    "\n",
    "    if choice == 1:\n",
    "        name = input(\"Enter Name: \").strip()\n",
    "        try:\n",
    "            marks = float(input(\"Enter Marks: \"))\n",
    "            students[name] = marks\n",
    "            print(\"Record Added!\")\n",
    "        except ValueError:\n",
    "            print(\"Please enter a valid number for marks.\")\n",
    "\n",
    "    elif choice == 2:\n",
    "        name = input(\"Enter Name whose marks you want to update: \").strip()\n",
    "        if name in students:\n",
    "            try:\n",
    "                marks = float(input(\"Enter updated Marks: \"))\n",
    "                students[name] = marks\n",
    "                print(\"Record Updated!\")\n",
    "            except ValueError:\n",
    "                print(\"Please enter a valid number for marks.\")\n",
    "        else:\n",
    "            print(\" Student not found.\")\n",
    "\n",
    "    elif choice == 3:\n",
    "        if students:\n",
    "            marks_list = list(students.values())\n",
    "            highest = max(marks_list)\n",
    "            lowest = min(marks_list)\n",
    "            average = sum(marks_list) / len(marks_list)\n",
    "\n",
    "            print(f\"\\n Highest Marks: {highest}\")\n",
    "            print(f\"Lowest Marks: {lowest}\")\n",
    "            print(f\"Average Marks: {average:.2f}\")\n",
    "        else:\n",
    "            print(\" No student records found.\")\n",
    "\n",
    "    elif choice == 4:\n",
    "        if students:\n",
    "            print(\"\\n All Student Records:\")\n",
    "            for name, mark in students.items():\n",
    "                print(f\"{name.title()}: {mark}\")\n",
    "        else:\n",
    "            print(\" No records to display.\")\n",
    "\n",
    "    elif choice == 5:\n",
    "        print(\" Exiting... \")\n",
    "        break\n",
    "\n",
    "    else:\n",
    "        print(\" Invalid Option. Please choose between 1-5.\")\n"
   ]
  },
  {
   "cell_type": "code",
   "execution_count": null,
   "id": "3b1144e5-6f2e-4597-a63c-33b5a6a2efab",
   "metadata": {},
   "outputs": [],
   "source": []
  }
 ],
 "metadata": {
  "kernelspec": {
   "display_name": "Python [conda env:base] *",
   "language": "python",
   "name": "conda-base-py"
  },
  "language_info": {
   "codemirror_mode": {
    "name": "ipython",
    "version": 3
   },
   "file_extension": ".py",
   "mimetype": "text/x-python",
   "name": "python",
   "nbconvert_exporter": "python",
   "pygments_lexer": "ipython3",
   "version": "3.12.7"
  }
 },
 "nbformat": 4,
 "nbformat_minor": 5
}

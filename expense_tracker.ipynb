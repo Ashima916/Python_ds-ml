{
 "cells": [
  {
   "cell_type": "code",
   "execution_count": 4,
   "id": "e82e82e5-10ec-4138-8d09-25aa6d026071",
   "metadata": {},
   "outputs": [],
   "source": [
    "import numpy as np"
   ]
  },
  {
   "cell_type": "code",
   "execution_count": 7,
   "id": "e2e59db1-f27f-4029-b40b-ab80798a5f10",
   "metadata": {},
   "outputs": [
    {
     "name": "stdout",
     "output_type": "stream",
     "text": [
      "--------- Monthly Expense Report -------\n",
      "\n",
      "Categories and Expenses:\n",
      "Travel: 5000.00\n",
      "Grocery: 2000.00\n",
      "Medical: 8000.00\n",
      "Insurance: 4000.00\n",
      "Education: 7000.00\n",
      "Food: 5000.00\n",
      "\n",
      "------------------------------------\n",
      "Total Expenses     : 31000.00\n",
      "Average per Category: 5166.67\n",
      "Highest Spending   : Medical (8000.00)\n",
      "Lowest Spending    : Grocery (2000.00)\n",
      "====================================\n"
     ]
    }
   ],
   "source": [
    "#Expense Tracker with numpy\n",
    "\n",
    "categories=np.array(['Travel','Grocery','Medical','Insurance','Education','Food'])\n",
    "expenses=np.array([5000,2000,8000,4000,7000,5000])\n",
    "total_expense = np.sum(expenses)\n",
    "\n",
    "average_expense = np.mean(expenses)\n",
    "\n",
    "highest_index = np.argmax(expenses)\n",
    "highest_category = categories[highest_index]\n",
    "highest_amount = expenses[highest_index]\n",
    "\n",
    "lowest_index = np.argmin(expenses)\n",
    "lowest_category = categories[lowest_index]\n",
    "lowest_amount = expenses[lowest_index]\n",
    "\n",
    "print(\"--------- Monthly Expense Report -------\\n\")\n",
    "print(\"Categories and Expenses:\")\n",
    "for i in range(len(categories)):\n",
    "    print(f\"{categories[i]}: {expenses[i]:.2f}\")\n",
    "\n",
    "print(\"\\n------------------------------------\")\n",
    "print(f\"Total Expenses     : {total_expense:.2f}\")\n",
    "print(f\"Average per Category: {average_expense:.2f}\")\n",
    "print(f\"Highest Spending   : {highest_category} ({highest_amount:.2f})\")\n",
    "print(f\"Lowest Spending    : {lowest_category} ({lowest_amount:.2f})\")\n",
    "print(\"====================================\")"
   ]
  },
  {
   "cell_type": "code",
   "execution_count": null,
   "id": "325e2981-df92-479e-9d74-d6c9fe9b1f7d",
   "metadata": {},
   "outputs": [],
   "source": []
  }
 ],
 "metadata": {
  "kernelspec": {
   "display_name": "Python [conda env:base] *",
   "language": "python",
   "name": "conda-base-py"
  },
  "language_info": {
   "codemirror_mode": {
    "name": "ipython",
    "version": 3
   },
   "file_extension": ".py",
   "mimetype": "text/x-python",
   "name": "python",
   "nbconvert_exporter": "python",
   "pygments_lexer": "ipython3",
   "version": "3.12.7"
  }
 },
 "nbformat": 4,
 "nbformat_minor": 5
}

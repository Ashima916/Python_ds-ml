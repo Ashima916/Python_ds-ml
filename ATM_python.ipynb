{
 "cells": [
  {
   "cell_type": "code",
   "execution_count": 5,
   "id": "bfdb08c9-cf24-411d-9adc-24145045b948",
   "metadata": {},
   "outputs": [
    {
     "name": "stdout",
     "output_type": "stream",
     "text": [
      "--------WELCOME in HDFC ATM-----------------\n",
      " \n"
     ]
    },
    {
     "name": "stdin",
     "output_type": "stream",
     "text": [
      "Insert your card card\n"
     ]
    },
    {
     "name": "stdout",
     "output_type": "stream",
     "text": [
      "card inserted...\n"
     ]
    },
    {
     "name": "stdin",
     "output_type": "stream",
     "text": [
      "Enter your pin 456\n"
     ]
    },
    {
     "name": "stdout",
     "output_type": "stream",
     "text": [
      "1)check balance\n",
      "2)withdraw\n",
      "3)credit amount\n"
     ]
    },
    {
     "name": "stdin",
     "output_type": "stream",
     "text": [
      "enter your option 3\n",
      "enter the amount to credit 2000000\n"
     ]
    },
    {
     "name": "stdout",
     "output_type": "stream",
     "text": [
      "your final amountis:- 2500000\n"
     ]
    }
   ],
   "source": [
    "class Atm_machine:\n",
    "    def __init__(self,amount=500000,pin=456):\n",
    "        self.amount=amount\n",
    "        self.pin=pin\n",
    "        print('--------WELCOME in HDFC ATM-----------------\\n ')\n",
    "    def card_insert(self):\n",
    "        if 'card'==input('Insert your card'):\n",
    "            print('card inserted...')\n",
    "            if self.pin==int(input('Enter your pin')):\n",
    "                print('1)check balance\\n2)withdraw\\n3)credit amount')\n",
    "                option=int(input('enter your option'))\n",
    "                if option==1:\n",
    "                    p1.check_balance()\n",
    "                elif option==2:\n",
    "                    p1.withdraw()\n",
    "                elif option==3:\n",
    "                    p1.credit()\n",
    "                else:\n",
    "                    print('Invalid option')\n",
    "            else:\n",
    "                print('wrong pin')\n",
    "        else:\n",
    "            print('invalid card')\n",
    "    def check_balance(self):\n",
    "        print('your current balance is :- ',self.amount)\n",
    "    def withdraw(self):\n",
    "        user_amount=int(input('enter your amount'))\n",
    "        print('your avaible balance is :- ',self.amount-user_amount)\n",
    "    def credit(self):\n",
    "        user_amount=int(input(\"enter the amount to credit\"))\n",
    "        print('your final amountis:-',self.amount+user_amount)\n",
    "                    \n",
    "p1=Atm_machine()\n",
    "p1.card_insert()  "
   ]
  },
  {
   "cell_type": "code",
   "execution_count": null,
   "id": "2fbbe4ee-4d10-4c60-88f4-d7ebeee01812",
   "metadata": {},
   "outputs": [],
   "source": []
  }
 ],
 "metadata": {
  "kernelspec": {
   "display_name": "Python [conda env:base] *",
   "language": "python",
   "name": "conda-base-py"
  },
  "language_info": {
   "codemirror_mode": {
    "name": "ipython",
    "version": 3
   },
   "file_extension": ".py",
   "mimetype": "text/x-python",
   "name": "python",
   "nbconvert_exporter": "python",
   "pygments_lexer": "ipython3",
   "version": "3.12.7"
  }
 },
 "nbformat": 4,
 "nbformat_minor": 5
}

{
 "cells": [
  {
   "cell_type": "code",
   "execution_count": 17,
   "id": "5c3f43eb-38b4-46c6-b9ac-951230b08b56",
   "metadata": {},
   "outputs": [
    {
     "name": "stdin",
     "output_type": "stream",
     "text": [
      "Enter the first number 2\n",
      "Enter the second number 4\n",
      "Any Operation(+,-,*,/): +\n"
     ]
    },
    {
     "name": "stdout",
     "output_type": "stream",
     "text": [
      "Addition: 6\n"
     ]
    }
   ],
   "source": [
    "#Simple Calculator\n",
    "num1 = int(input('Enter the first number'))\n",
    "num2 = int(input('Enter the second number'))\n",
    "operation = input('Any Operation(+,-,*,/):')\n",
    "if operation == '+':\n",
    "   print('Addition:',num1 + num2)\n",
    "elif operation == '-':\n",
    "      print('Difference:', num1 - num2)\n",
    "elif operation == '*':\n",
    "      print('Multiplication:', num1 * num2)\n",
    "elif operation == '/':\n",
    "      print('Division:', num1 / num2)\n",
    "else: print('Invalid Operation')"
   ]
  },
  {
   "cell_type": "code",
   "execution_count": 31,
   "id": "bdd2965b-9dce-43dd-8e41-6f667bc767ba",
   "metadata": {},
   "outputs": [
    {
     "name": "stdin",
     "output_type": "stream",
     "text": [
      "Enter your Age 59\n",
      "enter ticket price 200\n"
     ]
    },
    {
     "name": "stdout",
     "output_type": "stream",
     "text": [
      "Ticket: 80.0\n"
     ]
    }
   ],
   "source": [
    "#Bus Ticket Fare Calculator\n",
    "age=int(input('Enter your Age'))\n",
    "ticket=int(input('enter ticket price'))\n",
    "if age<=5:\n",
    "    print('No ticket for children till 5 year')\n",
    "elif age>5 and age<=18:\n",
    "    discount=ticket*0.5\n",
    "    print('ticket:',ticket-discount)\n",
    "elif age>18 and age<=50:\n",
    "    discount=ticket*0.3\n",
    "    print('Ticket:',ticket-discount)\n",
    "elif age>50 and age<=75:\n",
    "    discount=ticket*0.6\n",
    "    print('Ticket:',ticket-discount)\n",
    "elif age>75 and age<=100:\n",
    "    discount=ticket*0.4\n",
    "    print('Ticke:',ticket-discount)\n",
    "else: print('Invalid Input')"
   ]
  },
  {
   "cell_type": "code",
   "execution_count": null,
   "id": "69e902c9-1dfa-45c9-82cb-af4cc5e55db6",
   "metadata": {},
   "outputs": [],
   "source": []
  }
 ],
 "metadata": {
  "kernelspec": {
   "display_name": "Python 3 (ipykernel)",
   "language": "python",
   "name": "python3"
  },
  "language_info": {
   "codemirror_mode": {
    "name": "ipython",
    "version": 3
   },
   "file_extension": ".py",
   "mimetype": "text/x-python",
   "name": "python",
   "nbconvert_exporter": "python",
   "pygments_lexer": "ipython3",
   "version": "3.12.4"
  }
 },
 "nbformat": 4,
 "nbformat_minor": 5
}
